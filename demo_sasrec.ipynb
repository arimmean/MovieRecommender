{
 "cells": [
  {
   "cell_type": "markdown",
   "metadata": {},
   "source": [
    "# BERT4Rec Training Demo\n",
    "\n"
   ]
  },
  {
   "cell_type": "markdown",
   "metadata": {},
   "source": [
    "## 1. Import Required Libraries"
   ]
  },
  {
   "cell_type": "code",
   "execution_count": 1,
   "metadata": {},
   "outputs": [
    {
     "name": "stderr",
     "output_type": "stream",
     "text": [
      "/home/user/.local/lib/python3.10/site-packages/pandas/core/computation/expressions.py:21: UserWarning: Pandas requires version '2.8.4' or newer of 'numexpr' (version '2.8.1' currently installed).\n",
      "  from pandas.core.computation.check import NUMEXPR_INSTALLED\n",
      "/home/user/.local/lib/python3.10/site-packages/pandas/core/arrays/masked.py:60: UserWarning: Pandas requires version '1.3.6' or newer of 'bottleneck' (version '1.3.2' currently installed).\n",
      "  from pandas.core import (\n",
      "2025-05-22 10:29:47.633031: E external/local_xla/xla/stream_executor/cuda/cuda_fft.cc:485] Unable to register cuFFT factory: Attempting to register factory for plugin cuFFT when one has already been registered\n",
      "2025-05-22 10:29:47.649458: E external/local_xla/xla/stream_executor/cuda/cuda_dnn.cc:8463] Unable to register cuDNN factory: Attempting to register factory for plugin cuDNN when one has already been registered\n",
      "2025-05-22 10:29:47.654540: E external/local_xla/xla/stream_executor/cuda/cuda_blas.cc:1452] Unable to register cuBLAS factory: Attempting to register factory for plugin cuBLAS when one has already been registered\n"
     ]
    }
   ],
   "source": [
    "import torch\n",
    "from options import args\n",
    "from models import model_factory\n",
    "from dataloaders import dataloader_factory\n",
    "from trainers import trainer_factory\n",
    "from utils import *"
   ]
  },
  {
   "cell_type": "markdown",
   "metadata": {},
   "source": [
    "## 2. Configure Training Parameters\n",
    "\n",
    "We'll set up the same configuration as used in the BERT4Rec template."
   ]
  },
  {
   "cell_type": "code",
   "execution_count": 2,
   "metadata": {},
   "outputs": [],
   "source": [
    "# Set basic configuration\n",
    "args.mode = 'train'\n",
    "\n",
    "# Dataset selection\n",
    "dataset_choice = \"1\" # input('Input 1 for ml-1m, 20 for ml-20m: ')\n",
    "# args.dataset_code = f'ml-{dataset_choice}m'\n",
    "# args.min_rating = 0 if args.dataset_code == 'ml-1m' else 4\n",
    "args.dataset_code = 'kion'\n",
    "args.min_rating = 0 \n",
    "args.min_uc = 5\n",
    "args.min_sc = 0\n",
    "args.split = 'leave_one_out'\n",
    "\n",
    "# Dataloader configuration\n",
    "args.dataloader_code = 'bert'\n",
    "batch = 128\n",
    "args.train_batch_size = batch\n",
    "args.val_batch_size = batch\n",
    "args.test_batch_size = batch\n",
    "\n",
    "# Negative sampling configuration\n",
    "args.train_negative_sampler_code = 'random'\n",
    "args.train_negative_sample_size = 0\n",
    "args.train_negative_sampling_seed = 0\n",
    "args.test_negative_sampler_code = 'random'\n",
    "args.test_negative_sample_size = 100\n",
    "args.test_negative_sampling_seed = 98765\n",
    "\n",
    "# Training configuration\n",
    "args.trainer_code = 'bert'\n",
    "args.device = 'cuda' if torch.cuda.is_available() else 'cpu'\n",
    "args.num_gpu = 1\n",
    "args.device_idx = '0'\n",
    "args.optimizer = 'Adam'\n",
    "args.lr = 0.001\n",
    "args.enable_lr_schedule = True\n",
    "args.decay_step = 25\n",
    "args.gamma = 1.0\n",
    "args.num_epochs = 6\n",
    "args.metric_ks = [1, 5, 10, 20, 50, 100]\n",
    "args.best_metric = 'NDCG@10'\n",
    "\n",
    "# Model configuration\n",
    "args.model_code = 'sasrec'\n",
    "args.model_init_seed = 0\n",
    "args.dropout_rate = 0.1\n",
    "args.hidden_units = 256\n",
    "args.mask_prob = 0.15\n",
    "args.maxlen = 100\n",
    "args.num_blocks = 2\n",
    "args.num_heads = 4\n",
    "args.bert_max_len   = args.maxlen\n",
    "args.bert_mask_prob = args.mask_prob"
   ]
  },
  {
   "cell_type": "markdown",
   "metadata": {},
   "source": [
    "## 3. Setup Training Environment"
   ]
  },
  {
   "cell_type": "code",
   "execution_count": 3,
   "metadata": {},
   "outputs": [
    {
     "name": "stdout",
     "output_type": "stream",
     "text": [
      "Folder created: /home/user/MovieRecommender/experiments/test_2025-05-22_32\n",
      "{'anneal_cap': 0.2,\n",
      " 'bert_mask_prob': 0.15,\n",
      " 'bert_max_len': 100,\n",
      " 'best_metric': 'NDCG@10',\n",
      " 'dae_dropout': 0.5,\n",
      " 'dae_hidden_dim': 600,\n",
      " 'dae_latent_dim': 200,\n",
      " 'dae_num_hidden': 0,\n",
      " 'dataloader_code': 'bert',\n",
      " 'dataloader_random_seed': 0.0,\n",
      " 'dataset_code': 'kion',\n",
      " 'dataset_split_seed': 98765,\n",
      " 'decay_step': 25,\n",
      " 'device': 'cuda',\n",
      " 'device_idx': '0',\n",
      " 'dropout_rate': 0.1,\n",
      " 'enable_lr_schedule': True,\n",
      " 'eval_set_size': 500,\n",
      " 'experiment_description': 'test',\n",
      " 'experiment_dir': 'experiments',\n",
      " 'find_best_beta': True,\n",
      " 'gamma': 1.0,\n",
      " 'hidden_units': 256,\n",
      " 'log_period_as_iter': 12800,\n",
      " 'lr': 0.001,\n",
      " 'mask_prob': 0.15,\n",
      " 'maxlen': 100,\n",
      " 'metric_ks': [1,\n",
      "               5,\n",
      "               10,\n",
      "               20,\n",
      "               50,\n",
      "               100],\n",
      " 'min_rating': 0,\n",
      " 'min_sc': 0,\n",
      " 'min_uc': 5,\n",
      " 'mode': 'train',\n",
      " 'model_code': 'sasrec',\n",
      " 'model_init_seed': 0,\n",
      " 'num_blocks': 2,\n",
      " 'num_epochs': 6,\n",
      " 'num_gpu': 1,\n",
      " 'num_heads': 4,\n",
      " 'optimizer': 'Adam',\n",
      " 'split': 'leave_one_out',\n",
      " 'test_batch_size': 128,\n",
      " 'test_negative_sample_size': 100,\n",
      " 'test_negative_sampler_code': 'random',\n",
      " 'test_negative_sampling_seed': 98765,\n",
      " 'total_anneal_steps': 2000,\n",
      " 'train_batch_size': 128,\n",
      " 'train_negative_sample_size': 0,\n",
      " 'train_negative_sampler_code': 'random',\n",
      " 'train_negative_sampling_seed': 0,\n",
      " 'trainer_code': 'bert',\n",
      " 'vae_dropout': 0.5,\n",
      " 'vae_hidden_dim': 600,\n",
      " 'vae_latent_dim': 200,\n",
      " 'vae_num_hidden': 0,\n",
      " 'val_batch_size': 128,\n",
      " 'weight_decay': 0}\n",
      "Training logs and model checkpoints will be saved to: experiments/test_2025-05-22_32\n"
     ]
    }
   ],
   "source": [
    "# Setup training directory and logging\n",
    "export_root = setup_train(args)\n",
    "print(f\"Training logs and model checkpoints will be saved to: {export_root}\")"
   ]
  },
  {
   "cell_type": "markdown",
   "metadata": {},
   "source": [
    "## 4. Prepare Data"
   ]
  },
  {
   "cell_type": "code",
   "execution_count": 4,
   "metadata": {},
   "outputs": [
    {
     "name": "stdout",
     "output_type": "stream",
     "text": [
      "Already preprocessed. Skip preprocessing\n",
      "Negatives samples exist. Loading.\n",
      "Negatives samples exist. Loading.\n",
      "Dataset: kion\n",
      "Training batches: 2364\n",
      "Validation batches: 2364\n",
      "Test batches: 2364\n"
     ]
    }
   ],
   "source": [
    "# Create dataloaders\n",
    "train_loader, val_loader, test_loader = dataloader_factory(args)\n",
    "print(f\"Dataset: {args.dataset_code}\")\n",
    "print(f\"Training batches: {len(train_loader)}\")\n",
    "print(f\"Validation batches: {len(val_loader)}\")\n",
    "print(f\"Test batches: {len(test_loader)}\")"
   ]
  },
  {
   "cell_type": "markdown",
   "metadata": {},
   "source": [
    "## 5. Initialize Model"
   ]
  },
  {
   "cell_type": "code",
   "execution_count": 5,
   "metadata": {},
   "outputs": [
    {
     "name": "stdout",
     "output_type": "stream",
     "text": [
      "Model initialized with 9549693 parameters\n"
     ]
    }
   ],
   "source": [
    "# Create model\n",
    "model = model_factory(args)\n",
    "print(f\"Model initialized with {sum(p.numel() for p in model.parameters())} parameters\")"
   ]
  },
  {
   "cell_type": "markdown",
   "metadata": {},
   "source": [
    "## 6. Initialize Trainer"
   ]
  },
  {
   "cell_type": "code",
   "execution_count": 6,
   "metadata": {},
   "outputs": [
    {
     "name": "stdout",
     "output_type": "stream",
     "text": [
      "Trainer initialized with the following configuration:\n",
      "- Optimizer: Adam\n",
      "- Learning rate: 0.001\n",
      "- Number of epochs: 6\n",
      "- Best metric: NDCG@10\n"
     ]
    }
   ],
   "source": [
    "# Create trainer\n",
    "trainer = trainer_factory(args, model, train_loader, val_loader, test_loader, export_root)\n",
    "print(\"Trainer initialized with the following configuration:\")\n",
    "print(f\"- Optimizer: {args.optimizer}\")\n",
    "print(f\"- Learning rate: {args.lr}\")\n",
    "print(f\"- Number of epochs: {args.num_epochs}\")\n",
    "print(f\"- Best metric: {args.best_metric}\")"
   ]
  },
  {
   "cell_type": "markdown",
   "metadata": {},
   "source": [
    "## 7. Train Model"
   ]
  },
  {
   "cell_type": "code",
   "execution_count": 7,
   "metadata": {},
   "outputs": [
    {
     "name": "stderr",
     "output_type": "stream",
     "text": [
      "Val: N@1 0.011, N@5 0.029, N@10 0.048, R@1 0.011, R@5 0.048, R@10 0.108, M@1 0.011, M@5 0.023, M@10 0.031, V@1 0.000, V@5 0.000, V@10 0.000: 100%|██████████| 2364/2364 [01:42<00:00, 22.99it/s]\n",
      "/usr/lib/python3/dist-packages/torch/optim/lr_scheduler.py:143: UserWarning: Detected call of `lr_scheduler.step()` before `optimizer.step()`. In PyTorch 1.1.0 and later, you should call them in the opposite order: `optimizer.step()` before `lr_scheduler.step()`.  Failure to do this will result in PyTorch skipping the first value of the learning rate schedule. See more details at https://pytorch.org/docs/stable/optim.html#how-to-adjust-learning-rate\n",
      "  warnings.warn(\"Detected call of `lr_scheduler.step()` before `optimizer.step()`. \"\n"
     ]
    },
    {
     "name": "stdout",
     "output_type": "stream",
     "text": [
      "Update Best NDCG@10 Model at 1\n"
     ]
    },
    {
     "name": "stderr",
     "output_type": "stream",
     "text": [
      "Epoch 1, loss 7.111 : 100%|██████████| 2364/2364 [01:43<00:00, 22.87it/s]  \n",
      "Val: N@1 0.466, N@5 0.624, N@10 0.661, R@1 0.466, R@5 0.763, R@10 0.878, M@1 0.466, M@5 0.577, M@10 0.593, V@1 0.000, V@5 0.000, V@10 0.000: 100%|██████████| 2364/2364 [01:43<00:00, 22.76it/s]\n"
     ]
    },
    {
     "name": "stdout",
     "output_type": "stream",
     "text": [
      "Update Best NDCG@10 Model at 1\n"
     ]
    },
    {
     "name": "stderr",
     "output_type": "stream",
     "text": [
      "Epoch 2, loss 6.498 : 100%|██████████| 2364/2364 [01:43<00:00, 22.84it/s]  \n",
      "Val: N@1 0.493, N@5 0.652, N@10 0.687, R@1 0.493, R@5 0.793, R@10 0.900, M@1 0.493, M@5 0.606, M@10 0.620, V@1 0.000, V@5 0.000, V@10 0.000: 100%|██████████| 2364/2364 [01:42<00:00, 23.08it/s]\n"
     ]
    },
    {
     "name": "stdout",
     "output_type": "stream",
     "text": [
      "Update Best NDCG@10 Model at 2\n"
     ]
    },
    {
     "name": "stderr",
     "output_type": "stream",
     "text": [
      "Epoch 3, loss 6.229 : 100%|██████████| 2364/2364 [01:43<00:00, 22.83it/s]  \n",
      "Val: N@1 0.513, N@5 0.673, N@10 0.705, R@1 0.513, R@5 0.812, R@10 0.910, M@1 0.513, M@5 0.626, M@10 0.639, V@1 0.000, V@5 0.000, V@10 0.000: 100%|██████████| 2364/2364 [01:43<00:00, 22.74it/s]\n"
     ]
    },
    {
     "name": "stdout",
     "output_type": "stream",
     "text": [
      "Update Best NDCG@10 Model at 3\n"
     ]
    },
    {
     "name": "stderr",
     "output_type": "stream",
     "text": [
      "Epoch 4, loss 6.121 : 100%|██████████| 2364/2364 [01:43<00:00, 22.81it/s]  \n",
      "Val: N@1 0.521, N@5 0.682, N@10 0.713, R@1 0.521, R@5 0.821, R@10 0.916, M@1 0.521, M@5 0.635, M@10 0.648, V@1 0.000, V@5 0.000, V@10 0.000: 100%|██████████| 2364/2364 [01:42<00:00, 22.98it/s]\n"
     ]
    },
    {
     "name": "stdout",
     "output_type": "stream",
     "text": [
      "Update Best NDCG@10 Model at 4\n"
     ]
    },
    {
     "name": "stderr",
     "output_type": "stream",
     "text": [
      "Epoch 5, loss 6.048 : 100%|██████████| 2364/2364 [01:43<00:00, 22.81it/s]  \n",
      "Val: N@1 0.531, N@5 0.691, N@10 0.720, R@1 0.531, R@5 0.829, R@10 0.920, M@1 0.531, M@5 0.645, M@10 0.657, V@1 0.000, V@5 0.000, V@10 0.000: 100%|██████████| 2364/2364 [01:43<00:00, 22.91it/s]\n"
     ]
    },
    {
     "name": "stdout",
     "output_type": "stream",
     "text": [
      "Update Best NDCG@10 Model at 5\n"
     ]
    },
    {
     "name": "stderr",
     "output_type": "stream",
     "text": [
      "Epoch 6, loss 5.998 : 100%|██████████| 2364/2364 [01:43<00:00, 22.84it/s]  \n",
      "Val: N@1 0.534, N@5 0.694, N@10 0.724, R@1 0.534, R@5 0.833, R@10 0.924, M@1 0.534, M@5 0.648, M@10 0.660, V@1 0.000, V@5 0.000, V@10 0.000: 100%|██████████| 2364/2364 [01:43<00:00, 22.77it/s]\n"
     ]
    },
    {
     "name": "stdout",
     "output_type": "stream",
     "text": [
      "Update Best NDCG@10 Model at 6\n"
     ]
    }
   ],
   "source": [
    "# Start training\n",
    "trainer.train()"
   ]
  },
  {
   "cell_type": "code",
   "execution_count": 8,
   "metadata": {},
   "outputs": [
    {
     "name": "stdout",
     "output_type": "stream",
     "text": [
      "Weights saved to experiments/test_2025-05-22_32/bert4rec_weights.pth\n"
     ]
    }
   ],
   "source": [
    "import torch\n",
    "from pathlib import Path\n",
    "\n",
    "export_root = Path(export_root)\n",
    "\n",
    "pl_module = trainer.model if hasattr(trainer, \"model\") else trainer.lightning_module\n",
    "weights_path = export_root / \"bert4rec_weights.pth\"\n",
    "torch.save(pl_module.state_dict(), weights_path)\n",
    "print(f\"Weights saved to {weights_path}\")"
   ]
  },
  {
   "cell_type": "markdown",
   "metadata": {},
   "source": [
    "## 8. Test Model (Optional)"
   ]
  },
  {
   "cell_type": "code",
   "execution_count": 9,
   "metadata": {},
   "outputs": [
    {
     "name": "stdout",
     "output_type": "stream",
     "text": [
      "Test best model with test set!\n"
     ]
    },
    {
     "name": "stderr",
     "output_type": "stream",
     "text": [
      "Val: N@1 0.519, N@5 0.680, N@10 0.712, R@1 0.519, R@5 0.821, R@10 0.916, M@1 0.519, M@5 0.634, M@10 0.647, V@1 0.000, V@5 0.000, V@10 0.000: 100%|██████████| 2364/2364 [01:43<00:00, 22.93it/s]"
     ]
    },
    {
     "name": "stdout",
     "output_type": "stream",
     "text": [
      "{'Recall@100': 0.9999471235194586, 'NDCG@100': 0.731544487922123, 'MAP@100': 0.6516750656862549, 'Recall@50': 0.9963151702622673, 'NDCG@50': 0.7309481085304883, 'MAP@50': 0.6516203433023088, 'Recall@20': 0.973799703891709, 'NDCG@20': 0.7262994846464615, 'MAP@20': 0.6507979661175846, 'Recall@10': 0.9162839130701752, 'NDCG@10': 0.7115605161375604, 'MAP@10': 0.6466492197386504, 'Recall@5': 0.820784182264115, 'NDCG@5': 0.6804214571484455, 'MAP@5': 0.6336485505255346, 'Recall@1': 0.5192641636920863, 'NDCG@1': 0.5192641636920863, 'MAP@1': 0.5192641636920863}\n"
     ]
    },
    {
     "name": "stderr",
     "output_type": "stream",
     "text": [
      "\n"
     ]
    }
   ],
   "source": [
    "# Ask user if they want to run test set evaluation\n",
    "test_model = (input('Test model with test dataset? y/[n]: ') == 'y')\n",
    "if test_model:\n",
    "    trainer.test()"
   ]
  }
 ],
 "metadata": {
  "kernelspec": {
   "display_name": "Python 3",
   "language": "python",
   "name": "python3"
  },
  "language_info": {
   "codemirror_mode": {
    "name": "ipython",
    "version": 3
   },
   "file_extension": ".py",
   "mimetype": "text/x-python",
   "name": "python",
   "nbconvert_exporter": "python",
   "pygments_lexer": "ipython3",
   "version": "3.10.12"
  }
 },
 "nbformat": 4,
 "nbformat_minor": 4
}
